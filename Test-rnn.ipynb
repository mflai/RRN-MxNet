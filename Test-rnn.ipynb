{
 "cells": [
  {
   "cell_type": "code",
   "execution_count": null,
   "metadata": {},
   "outputs": [],
   "source": [
    "# import necessary dependencies\n",
    "import math\n",
    "import os\n",
    "import time\n",
    "import numpy as np\n",
    "import mxnet as mx\n",
    "from mxnet import gluon, autograd\n",
    "from mxnet.gluon import nn, rnn\n",
    "import mxnet.ndarray as F\n",
    "import logging\n",
    "from __future__ import print_function\n",
    "import sys\n",
    "py_new = True #  Checks for python version\n",
    "if sys.version[:1] == '2':\n",
    "    py_new = False"
   ]
  },
  {
   "cell_type": "code",
   "execution_count": null,
   "metadata": {
    "collapsed": true
   },
   "outputs": [],
   "source": [
    "# Check context available and load the necessary context (cpu/gpu)\n",
    "try:\n",
    "    a = mx.nd.ones((2,3), mx.gpu(0))\n",
    "    context = mx.gpu(0)\n",
    "except:\n",
    "    context = mx.cpu(0)"
   ]
  },
  {
   "cell_type": "code",
   "execution_count": null,
   "metadata": {
    "collapsed": true
   },
   "outputs": [],
   "source": [
    "try:\n",
    "    # For Python 3.0 and later\n",
    "    from urllib.request import urlopen\n",
    "except ImportError:\n",
    "    # Fall back to Python 2's urllib2\n",
    "    from urllib2 import urlopen"
   ]
  },
  {
   "cell_type": "code",
   "execution_count": null,
   "metadata": {
    "collapsed": true
   },
   "outputs": [],
   "source": [
    "def readAndStoreFile(url):\n",
    "    import os\n",
    "    try:\n",
    "        # For Python 3.0 and later\n",
    "        from urllib.request import urlopen\n",
    "    except ImportError:\n",
    "        # Fall back to Python 2's urllib2\n",
    "        from urllib2 import urlopen\n",
    "    if not os.path.isdir(\"data\"):\n",
    "        os.mkdir(\"data\")\n",
    "        response = urlopen(url)\n",
    "        data = response.read().decode('utf-8')\n",
    "        with open(\"data/nietzsche.txt\", \"w+\") as f:\n",
    "            f.write(data)\n",
    "            f.close()"
   ]
  },
  {
   "cell_type": "code",
   "execution_count": null,
   "metadata": {
    "collapsed": true
   },
   "outputs": [],
   "source": [
    "url = \"https://s3.amazonaws.com/text-datasets/nietzsche.txt\"\n",
    "readAndStoreFile(url)"
   ]
  },
  {
   "cell_type": "code",
   "execution_count": null,
   "metadata": {},
   "outputs": [],
   "source": [
    "# loading https://s3.amazonaws.com/text-datasets/nietzsche.txt \n",
    "# You can load anyother text you want\n",
    "# (https://cs.stanford.edu/people/karpathy/char-rnn/)\n",
    "if py_new:\n",
    "    with open(\"data/nietzsche.txt\", errors='ignore') as f:\n",
    "        text = f.read()\n",
    "else:\n",
    "     with open(\"data/nietzsche.txt\") as f:\n",
    "        text = f.read()\n",
    "print(len(text))"
   ]
  },
  {
   "cell_type": "code",
   "execution_count": null,
   "metadata": {},
   "outputs": [],
   "source": [
    "# total of characters in dataset\n",
    "chars = sorted(list(set(text)))\n",
    "vocab_size = len(chars)+1\n",
    "print('total chars:', vocab_size)"
   ]
  },
  {
   "cell_type": "code",
   "execution_count": null,
   "metadata": {
    "collapsed": true
   },
   "outputs": [],
   "source": [
    "# zeros for padding\n",
    "chars.insert(0, \"\\0\")"
   ]
  },
  {
   "cell_type": "code",
   "execution_count": null,
   "metadata": {},
   "outputs": [],
   "source": [
    "''.join(chars[1:-6])"
   ]
  },
  {
   "cell_type": "code",
   "execution_count": null,
   "metadata": {
    "collapsed": true
   },
   "outputs": [],
   "source": [
    "# maps character to unique index e.g. {a:1,b:2....}\n",
    "char_indices = dict((c, i) for i, c in enumerate(chars))\n",
    "# maps indices to character (1:a,2:b ....)\n",
    "indices_char = dict((i, c) for i, c in enumerate(chars))"
   ]
  },
  {
   "cell_type": "code",
   "execution_count": null,
   "metadata": {
    "collapsed": true
   },
   "outputs": [],
   "source": [
    "# mapping the dataset into index\n",
    "idx = [char_indices[c] for c in text]"
   ]
  },
  {
   "cell_type": "code",
   "execution_count": null,
   "metadata": {},
   "outputs": [],
   "source": [
    "print(len(idx))"
   ]
  },
  {
   "cell_type": "code",
   "execution_count": null,
   "metadata": {},
   "outputs": [],
   "source": [
    "# testing the mapping\n",
    "''.join(indices_char[i] for i in idx[:70])"
   ]
  },
  {
   "cell_type": "markdown",
   "metadata": {},
   "source": [
    "## Our unrolled RNN\n",
    "\n",
    "In this model we map 3 inputs to one output. Later we will design rnn with n inputs to n inputs (sequence to sequence)"
   ]
  },
  {
   "cell_type": "code",
   "execution_count": null,
   "metadata": {
    "collapsed": true
   },
   "outputs": [],
   "source": [
    "# input for neural network(our basic rnn has 3 inputs, n samples)\n",
    "cs = 3\n",
    "c1_dat = [idx[i] for i in range(0, len(idx)-1-cs, cs)]\n",
    "c2_dat = [idx[i+1] for i in range(0, len(idx)-1-cs, cs)]\n",
    "c3_dat = [idx[i+2] for i in range(0, len(idx)-1-cs, cs)]\n",
    "# the output of rnn network (single vector)\n",
    "c4_dat = [idx[i+3] for i in range(0, len(idx)-1-cs, cs)]"
   ]
  },
  {
   "cell_type": "code",
   "execution_count": null,
   "metadata": {
    "collapsed": true
   },
   "outputs": [],
   "source": [
    "# stacking the inputs to form (3 input features )\n",
    "x1 = np.stack(c1_dat[:-2])\n",
    "x2 = np.stack(c2_dat[:-2])\n",
    "x3 = np.stack(c3_dat[:-2])"
   ]
  },
  {
   "cell_type": "code",
   "execution_count": null,
   "metadata": {
    "collapsed": true
   },
   "outputs": [],
   "source": [
    "# the output (1 X N data points)\n",
    "y = np.stack(c4_dat[:-2])"
   ]
  },
  {
   "cell_type": "code",
   "execution_count": null,
   "metadata": {},
   "outputs": [],
   "source": [
    "col_concat = np.array([x1, x2, x3])\n",
    "t_col_concat = col_concat.T\n",
    "print(t_col_concat.shape)"
   ]
  },
  {
   "cell_type": "code",
   "execution_count": null,
   "metadata": {
    "collapsed": true
   },
   "outputs": [],
   "source": [
    "# our sample inputs for the model\n",
    "x1_nd = mx.nd.array(x1)\n",
    "x2_nd = mx.nd.array(x2)\n",
    "x3_nd = mx.nd.array(x3)\n",
    "sample_input = mx.nd.array([[x1[0], x2[0], x3[0]], [x1[1], x2[1], x3[1]]])\n",
    "\n",
    "simple_train_data = mx.nd.array(t_col_concat)\n",
    "simple_label_data = mx.nd.array(y)"
   ]
  },
  {
   "cell_type": "code",
   "execution_count": null,
   "metadata": {
    "collapsed": true
   },
   "outputs": [],
   "source": [
    "# Set the batchsize as 32, so input is of form 32 X 3\n",
    "# output is 32 X 1\n",
    "batch_size = 32\n",
    "\n",
    "\n",
    "def get_batch(source, label_data, i, batch_size=32):\n",
    "    bb_size = min(batch_size, source.shape[0] - 1 - i)\n",
    "    data = source[i: i + bb_size]\n",
    "    target = label_data[i: i + bb_size]\n",
    "    # print(target.shape)\n",
    "    return data, target.reshape((-1, ))"
   ]
  },
  {
   "cell_type": "code",
   "execution_count": null,
   "metadata": {},
   "outputs": [],
   "source": [
    "test_bat, test_target = get_batch(simple_train_data,\n",
    "                                  simple_label_data, 5, batch_size)\n",
    "print(test_bat.shape)\n",
    "print(test_target.shape)"
   ]
  },
  {
   "cell_type": "markdown",
   "metadata": {},
   "source": [
    "<img src=\"images/unRolled_rnn.png\">"
   ]
  },
  {
   "cell_type": "code",
   "execution_count": null,
   "metadata": {
    "collapsed": true
   },
   "outputs": [],
   "source": [
    "# simple UnRollredRNN_Model\n",
    "from mxnet.gluon import Block, nn\n",
    "from mxnet import ndarray as F\n",
    "\n",
    "\n",
    "class UnRolledRNN_Model(Block):\n",
    "    def __init__(self, vocab_size, num_embed, num_hidden, **kwargs):\n",
    "        super(UnRolledRNN_Model, self).__init__(**kwargs)\n",
    "        self.num_embed = num_embed\n",
    "        self.vocab_size = vocab_size\n",
    "\n",
    "        # use name_scope to give child Blocks appropriate names.\n",
    "        # It also allows sharing Parameters between Blocks recursively.\n",
    "        with self.name_scope():\n",
    "            self.encoder = nn.Embedding(self.vocab_size, self.num_embed)\n",
    "            self.dense1 = nn.Dense(num_hidden, activation='relu', flatten=True)\n",
    "            self.dense2 = nn.Dense(num_hidden, activation='relu', flatten=True)\n",
    "            self.dense3 = nn.Dense(vocab_size, flatten=True)\n",
    "\n",
    "    def forward(self, inputs):\n",
    "        emd = self.encoder(inputs)\n",
    "        # print( emd.shape )\n",
    "        # since the input is shape (batch_size, input(3 characters) )\n",
    "        # we need to extract 0th, 1st, 2nd character from each batch\n",
    "        character1 = emd[:, 0, :]\n",
    "        character2 = emd[:, 1, :]\n",
    "        character3 = emd[:, 2, :]\n",
    "        # green arrow in diagram for character 1\n",
    "        c1_hidden = self.dense1(character1)\n",
    "        # green arrow in diagram for character 2\n",
    "        c2_hidden = self.dense1(character2)\n",
    "        # green arrow in diagram for character 3\n",
    "        c3_hidden = self.dense1(character3)\n",
    "        # yellow arrow in diagram\n",
    "        c1_hidden_2 = self.dense2(c1_hidden)\n",
    "        addition_result = F.add(c2_hidden, c1_hidden_2)  # Total c1 + c2\n",
    "        addition_hidden = self.dense2(addition_result)  # the yellow arrow\n",
    "        addition_result_2 = F.add(addition_hidden, c3_hidden)  # Total c1 + c2\n",
    "        final_output = self.dense3(addition_result_2)\n",
    "        return final_output\n",
    "\n",
    "\n",
    "vocab_size = len(chars) + 1  # the vocabsize\n",
    "num_embed = 30\n",
    "num_hidden = 256\n",
    "# model creation\n",
    "simple_model = UnRolledRNN_Model(vocab_size, num_embed, num_hidden)\n",
    "# model initilisation\n",
    "simple_model.collect_params().initialize(mx.init.Xavier(), ctx=context)\n",
    "trainer = gluon.Trainer(simple_model.collect_params(), 'adam')\n",
    "loss = gluon.loss.SoftmaxCrossEntropyLoss()\n",
    "# sample input shape is of size (2x3)\n",
    "# output = simple_model (sample_input)\n",
    "# sample out shape should be (3*87). 87 is our vocab size\n",
    "# print('the output shape',output.shape)"
   ]
  },
  {
   "cell_type": "code",
   "execution_count": null,
   "metadata": {},
   "outputs": [],
   "source": [
    "\n",
    "# check point file\n",
    "try:\n",
    "    os.makedirs('checkpoints')\n",
    "except:\n",
    "    print(\"directory already exists\")\n",
    "filename_unrolled_rnn = \"checkpoints/rnn_gluon_abc.params\""
   ]
  },
  {
   "cell_type": "code",
   "execution_count": null,
   "metadata": {
    "collapsed": true
   },
   "outputs": [],
   "source": [
    "# the actual training\n",
    "def UnRolledRNNtrain(train_data, label_data, batch_size=32, epochs=10):\n",
    "    epochs = epochs\n",
    "    smoothing_constant = .01\n",
    "    for e in range(epochs):\n",
    "        for ibatch, i in enumerate(range(0, train_data.shape[0] - 1, batch_size)):\n",
    "            data, target = get_batch(train_data, label_data, i, batch_size)\n",
    "            data = data.as_in_context(context)\n",
    "            target = target.as_in_context(context)\n",
    "            with autograd.record():\n",
    "                output = simple_model(data)\n",
    "                L = loss(output, target)\n",
    "            L.backward()\n",
    "            trainer.step(data.shape[0])\n",
    "\n",
    "            ##########################\n",
    "            #  Keep a moving average of the losses\n",
    "            ##########################\n",
    "            if ibatch == 128:\n",
    "                curr_loss = mx.nd.mean(L).asscalar()\n",
    "                moving_loss = 0\n",
    "                moving_loss = (curr_loss if ((i == 0) and (e == 0))\n",
    "                               else (1 - smoothing_constant) * moving_loss + (smoothing_constant) * curr_loss)\n",
    "                print(\"Epoch %s. Loss: %s, moving_loss %s\" % (e, curr_loss, moving_loss))\n",
    "    simple_model.save_params(filename_unrolled_rnn)"
   ]
  },
  {
   "cell_type": "code",
   "execution_count": null,
   "metadata": {},
   "outputs": [],
   "source": [
    "epochs = 10\n",
    "UnRolledRNNtrain(simple_train_data, simple_label_data, batch_size, epochs)"
   ]
  },
  {
   "cell_type": "code",
   "execution_count": null,
   "metadata": {
    "collapsed": true
   },
   "outputs": [],
   "source": [
    "# loading the model back\n",
    "simple_model.load_params(filename_unrolled_rnn, ctx=context)"
   ]
  },
  {
   "cell_type": "code",
   "execution_count": null,
   "metadata": {
    "collapsed": true
   },
   "outputs": [],
   "source": [
    "# evaluating the model\n",
    "def evaluate(input_string):\n",
    "    idx = [char_indices[c] for c in input_string]\n",
    "    sample_input = mx.nd.array([[idx[0], idx[1], idx[2]]], ctx=context)\n",
    "    output = simple_model(sample_input)\n",
    "    index = mx.nd.argmax(output, axis=1)\n",
    "    return index.asnumpy()[0]"
   ]
  },
  {
   "cell_type": "code",
   "execution_count": null,
   "metadata": {},
   "outputs": [],
   "source": [
    "# predictions\n",
    "begin_char = 'lov'\n",
    "answer = evaluate(begin_char)\n",
    "print('the predicted answer is ', indices_char[answer])"
   ]
  },
  {
   "cell_type": "markdown",
   "metadata": {},
   "source": [
    "## Character RNN using gluon/lstm api\n",
    "\n",
    "Training sequence 2 sequence models using Gluon API"
   ]
  },
  {
   "cell_type": "code",
   "execution_count": null,
   "metadata": {
    "collapsed": true
   },
   "outputs": [],
   "source": [
    "# Class to create model objects.\n",
    "class GluonRNNModel(gluon.Block):\n",
    "    \"\"\"A model with an encoder, recurrent layer, and a decoder.\"\"\"\n",
    "\n",
    "    def __init__(self, mode, vocab_size, num_embed, num_hidden,\n",
    "                 num_layers, dropout=0.5, **kwargs):\n",
    "        super(GluonRNNModel, self).__init__(**kwargs)\n",
    "        with self.name_scope():\n",
    "            self.drop = nn.Dropout(dropout)\n",
    "            self.encoder = nn.Embedding(vocab_size, num_embed,\n",
    "                                        weight_initializer=mx.init.Uniform(0.1))\n",
    "\n",
    "            if mode == 'lstm':\n",
    "                self.rnn = rnn.LSTM(num_hidden, num_layers, dropout=dropout,\n",
    "                                    input_size=num_embed)\n",
    "            elif mode == 'gru':\n",
    "                self.rnn = rnn.GRU(num_hidden, num_layers, dropout=dropout,\n",
    "                                   input_size=num_embed)\n",
    "            else:\n",
    "                self.rnn = rnn.RNN(num_hidden, num_layers, activation='relu', dropout=dropout,\n",
    "                                   input_size=num_embed)\n",
    "            self.decoder = nn.Dense(vocab_size, in_units=num_hidden)\n",
    "            self.num_hidden = num_hidden\n",
    "\n",
    "    # define the forward pass of the neural network\n",
    "    def forward(self, inputs, hidden):\n",
    "        emb = self.drop(self.encoder(inputs))\n",
    "        output, hidden = self.rnn(emb, hidden)\n",
    "        output = self.drop(output)\n",
    "        # print('output forward',output.shape)\n",
    "        decoded = self.decoder(output.reshape((-1, self.num_hidden)))\n",
    "        return decoded, hidden\n",
    "\n",
    "    # Initial state of netork\n",
    "    def begin_state(self, *args, **kwargs):\n",
    "        return self.rnn.begin_state(*args, **kwargs)"
   ]
  },
  {
   "cell_type": "code",
   "execution_count": null,
   "metadata": {
    "collapsed": true
   },
   "outputs": [],
   "source": [
    "# define the lstm\n",
    "mode = 'lstm'\n",
    "# number of characters in vocab_size\n",
    "vocab_size = len(chars) + 1\n",
    "embedsize = 500\n",
    "hididen_units = 1000\n",
    "number_layers = 2\n",
    "clip = 0.2\n",
    "epochs = 200  # use 200 epochs for good result\n",
    "batch_size = 32\n",
    "seq_length = 100  # sequence length\n",
    "dropout = 0.4\n",
    "log_interval = 64\n",
    "# checkpoints/gluonlstm_2 (prepared for seq_lenght 100, 200 epochs)\n",
    "rnn_save = 'checkpoints/gluonlstm_abc'\n"
   ]
  },
  {
   "cell_type": "code",
   "execution_count": null,
   "metadata": {
    "collapsed": true
   },
   "outputs": [],
   "source": [
    "# GluonRNNModel\n",
    "model = GluonRNNModel(mode, vocab_size, embedsize, hididen_units,\n",
    "                      number_layers, dropout)\n",
    "# initalise the weights of models to random weights\n",
    "model.collect_params().initialize(mx.init.Xavier(), ctx=context)\n",
    "# Adam trainer\n",
    "trainer = gluon.Trainer(model.collect_params(), 'adam')\n",
    "# softmax cros entropy loss\n",
    "loss = gluon.loss.SoftmaxCrossEntropyLoss()"
   ]
  },
  {
   "cell_type": "code",
   "execution_count": null,
   "metadata": {
    "collapsed": true
   },
   "outputs": [],
   "source": [
    "# prepares rnn batches\n",
    "# The batch will be of shape is (num_example * batch_size) because of RNN uses sequences of input     x\n",
    "# for example if we use (a1,a2,a3) as one input sequence , (b1,b2,b3) as another input sequence and (c1,c2,c3)\n",
    "# if we have batch of 3, then at timestep '1'  we only have (a1,b1.c1) as input, at timestep '2' we have (a2,b2,c2) as input...\n",
    "# hence the batchsize is of order \n",
    "# In feedforward we use (batch_size, num_example)\n",
    "def rnn_batch(data, batch_size):\n",
    "    \"\"\"Reshape data into (num_example, batch_size)\"\"\"\n",
    "    nbatch = data.shape[0] // batch_size\n",
    "    data = data[:nbatch * batch_size]\n",
    "    data = data.reshape((batch_size, nbatch)).T\n",
    "    return data\n",
    "\n",
    "idx_nd = mx.nd.array(idx)\n",
    "# convert the idex of characters\n",
    "train_data_rnn_gluon = rnn_batch(idx_nd, batch_size).as_in_context(context)\n"
   ]
  },
  {
   "cell_type": "code",
   "execution_count": null,
   "metadata": {
    "collapsed": true
   },
   "outputs": [],
   "source": [
    "# get the batch\n",
    "def get_batch(source, i, seq):\n",
    "    seq_len = min(seq, source.shape[0] - 1 - i)\n",
    "    data = source[i: i + seq_len]\n",
    "    target = source[i + 1: i + 1 + seq_len]\n",
    "    return data, target.reshape((-1,))\n",
    "\n",
    "\n",
    "# detach the hidden state, so we dont accidentally compute gradients\n",
    "def detach(hidden):\n",
    "    if isinstance(hidden, (tuple, list)):\n",
    "        hidden = [i.detach() for i in hidden]\n",
    "    else:\n",
    "        hidden = hidden.detach()\n",
    "    return hidden"
   ]
  },
  {
   "cell_type": "code",
   "execution_count": null,
   "metadata": {
    "collapsed": true
   },
   "outputs": [],
   "source": [
    "def trainGluonRNN(epochs, train_data, seq=seq_length):\n",
    "    for epoch in range(epochs):\n",
    "        total_L = 0.0\n",
    "        hidden = model.begin_state(func=mx.nd.zeros, batch_size=batch_size, ctx=context)\n",
    "        for ibatch, i in enumerate(range(0, train_data.shape[0] - 1, seq_length)):\n",
    "            data, target = get_batch(train_data, i, seq)\n",
    "            hidden = detach(hidden)\n",
    "            with autograd.record():\n",
    "                output, hidden = model(data, hidden)\n",
    "                L = loss(output, target) # this is total loss associated with seq_length\n",
    "                L.backward()\n",
    "\n",
    "            grads = [i.grad(context) for i in model.collect_params().values()]\n",
    "            # Here gradient is for the whole batch.\n",
    "            # So we multiply max_norm by batch_size and seq_length to balance it.\n",
    "            gluon.utils.clip_global_norm(grads, clip * seq_length * batch_size)\n",
    "\n",
    "            trainer.step(batch_size)\n",
    "            total_L += mx.nd.sum(L).asscalar()\n",
    "\n",
    "            if ibatch % log_interval == 0 and ibatch > 0:\n",
    "                cur_L = total_L / seq_length / batch_size / log_interval\n",
    "                print('[Epoch %d Batch %d] loss %.2f', epoch + 1, ibatch, cur_L)\n",
    "                total_L = 0.0\n",
    "        model.save_params(rnn_save)"
   ]
  },
  {
   "cell_type": "code",
   "execution_count": null,
   "metadata": {},
   "outputs": [],
   "source": [
    "print('the train data shape is', train_data_rnn_gluon.shape)"
   ]
  },
  {
   "cell_type": "code",
   "execution_count": null,
   "metadata": {},
   "outputs": [],
   "source": [
    "# The train data shape\n",
    "trainGluonRNN(epochs, train_data_rnn_gluon, seq=seq_length)\n"
   ]
  },
  {
   "cell_type": "code",
   "execution_count": null,
   "metadata": {
    "collapsed": true
   },
   "outputs": [],
   "source": [
    "model.load_params(rnn_save, context)"
   ]
  },
  {
   "cell_type": "code",
   "execution_count": null,
   "metadata": {
    "collapsed": true
   },
   "outputs": [],
   "source": [
    "# evaluates a seqtoseq model over input string\n",
    "def evaluate_seq2seq(model, input_string, seq_length, batch_size):\n",
    "    idx = [char_indices[c] for c in input_string]\n",
    "    if(len(input_string) != seq_length):\n",
    "        raise ValueError(\"input string should be equal to sequence length\")\n",
    "    hidden = model.begin_state(func=mx.nd.zeros, batch_size=batch_size, ctx=context)\n",
    "    sample_input = mx.nd.array(np.array([idx[0:seq_length]]).T, ctx=context)\n",
    "    output, hidden = model(sample_input, hidden)\n",
    "    index = mx.nd.argmax(output, axis=1)\n",
    "    index = index.asnumpy()\n",
    "    return [indices_char[char] for char in index]"
   ]
  },
  {
   "cell_type": "code",
   "execution_count": null,
   "metadata": {
    "collapsed": true
   },
   "outputs": [],
   "source": [
    "# maps the input sequence to output sequence\n",
    "def mapInput(input_str, output_str):\n",
    "    for i, _ in enumerate(input_str):\n",
    "        partial_input = input_str[:i+1]\n",
    "        partial_output = output_str[i:i+1]\n",
    "        print(partial_input + \"->\" + partial_output[0])"
   ]
  },
  {
   "cell_type": "code",
   "execution_count": null,
   "metadata": {
    "collapsed": true
   },
   "outputs": [],
   "source": [
    "test_input = 'probably the time is at hand when it will be once and again understood WHAT has actually sufficed an'\n",
    "print(len(test_input))\n",
    "result = evaluate_seq2seq(model, test_input, seq_length, 1)\n",
    "mapInput(test_input, result)"
   ]
  },
  {
   "cell_type": "code",
   "execution_count": null,
   "metadata": {
    "collapsed": true
   },
   "outputs": [],
   "source": [
    "# a nietzsche like text generator\n",
    "import sys\n",
    "\n",
    "\n",
    "def generate_random_text(model, input_string, seq_length, batch_size, sentence_length):\n",
    "    count = 0\n",
    "    new_string = ''\n",
    "    cp_input_string = input_string\n",
    "    hidden = model.begin_state(func=mx.nd.zeros, batch_size=batch_size, ctx=context)\n",
    "    while count < sentence_length:\n",
    "        idx = [char_indices[c] for c in input_string]\n",
    "        if(len(input_string) != seq_length):\n",
    "            print(len(input_string))\n",
    "            raise ValueError('there was a error in the input ')\n",
    "        sample_input = mx.nd.array(np.array([idx[0:seq_length]]).T, ctx=context)\n",
    "        output, hidden = model(sample_input, hidden)\n",
    "        index = mx.nd.argmax(output, axis=1)\n",
    "        index = index.asnumpy()\n",
    "        count = count + 1\n",
    "        new_string = new_string + indices_char[index[-1]]\n",
    "        input_string = input_string[1:] + indices_char[index[-1]]\n",
    "    print(cp_input_string + new_string)"
   ]
  },
  {
   "cell_type": "code",
   "execution_count": null,
   "metadata": {
    "collapsed": true
   },
   "outputs": [],
   "source": [
    "generate_random_text(model, \"probably the time is at hand when it will be once and again understood WHAT has actually sufficed an\", seq_length, 1, 200)"
   ]
  },
  {
   "cell_type": "code",
   "execution_count": null,
   "metadata": {
    "collapsed": true
   },
   "outputs": [],
   "source": []
  }
 ],
 "metadata": {
  "anaconda-cloud": {},
  "kernelspec": {
   "display_name": "Python 2",
   "language": "python",
   "name": "python2"
  },
  "language_info": {
   "codemirror_mode": {
    "name": "ipython",
    "version": 2
   },
   "file_extension": ".py",
   "mimetype": "text/x-python",
   "name": "python",
   "nbconvert_exporter": "python",
   "pygments_lexer": "ipython2",
   "version": "2.7.14"
  }
 },
 "nbformat": 4,
 "nbformat_minor": 1
}
